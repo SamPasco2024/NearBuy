{
 "cells": [
  {
   "cell_type": "code",
   "execution_count": 22,
   "id": "4a28b4c8-8cdd-4920-8834-76a41dff1bca",
   "metadata": {
    "tags": []
   },
   "outputs": [],
   "source": [
    "#Python Imports\n",
    "import os\n",
    "import sys\n",
    "import csv\n",
    "import json\n",
    "import time\n",
    "import itertools\n",
    "import numpy as np\n",
    "import pandas as pd\n",
    "from selenium import webdriver\n",
    "from IPython.display import Image\n",
    "from selenium.webdriver.common.by import By\n",
    "from selenium.webdriver.chrome.options import Options\n",
    "from selenium.webdriver.chrome.service import Service\n",
    "from selenium.webdriver.common.keys import Keys\n",
    "\n",
    "\n",
    "#Selenium Imports\n",
    "chrome_options = Options()\n",
    "#chrome_options.add_argument(\"--headless\") # Ensure GUI is off\n",
    "#chrome_options.add_argument(\"--no-sandbox\")\n",
    "browser = webdriver.Chrome(options=chrome_options)"
   ]
  },
  {
   "cell_type": "markdown",
   "id": "ade4c20c-fe20-4469-bb0e-183eb4771f34",
   "metadata": {
    "jp-MarkdownHeadingCollapsed": true,
    "tags": []
   },
   "source": [
    "# DuckDuckGo (DONE)"
   ]
  },
  {
   "cell_type": "code",
   "execution_count": 3,
   "id": "ecd87748-fc31-4b55-992e-8f2d817ec465",
   "metadata": {
    "tags": []
   },
   "outputs": [],
   "source": [
    "url = \"https://duckduckgo.com/?q=ulla+johnson&va=u&t=he&ia=web\"\n",
    "browser.get(url)"
   ]
  },
  {
   "cell_type": "code",
   "execution_count": 4,
   "id": "c1753eb1-fc55-41b6-92fe-f2faa3cc9440",
   "metadata": {
    "tags": []
   },
   "outputs": [
    {
     "name": "stdout",
     "output_type": "stream",
     "text": [
      "PBR Finder - Pabst Blue Ribbon : Pabst Blue Ribbon\n",
      "Pabst Blue Ribbon Beer - 12pk/12 Fl Oz Cans : Target\n",
      "Pabst Blue Ribbon (PBR) | Pabst Brewing Company | BeerAdvocate\n",
      "Pabst Blue Ribbon Extra Price & Reviews | Drizly\n",
      "PBR Is Bringing Back 99 Packs & Rolling Out a Case With ... - Thrillist\n",
      "Pabst Blue Ribbon (PBR) Beer: Everything You Need to Know\n",
      "Top Beer And Shot Combos In Philadelphia - CBS Philadelphia\n",
      "Pabst Blue Ribbon Easy Price & Reviews | Drizly\n",
      "Tours | Best Place at the Historic Pabst Brewery\n",
      "Pabst Blue Ribbon ranks among top 20 beers in US sales for 2021\n",
      "What alcohol is PBR beer? - coalitionbrewing.com\n",
      "PBR Has Gone Big Again, This Time Releasing An 1844-Pack. - Forbes\n",
      "PBR Unveils 1844-Pack of Beer — the World's Largest\n",
      "Human Robot Brewery | Jenkintown, PA | Beers | BeerAdvocate\n",
      "Carrying 74 Cases Of Beer, PBR's 1776-Pack Claims To Be The ... - Forbes\n",
      "Fine Wine & Good Spirits\n",
      "Best Breweries near Jenkintown, PA 19046 - Yelp\n",
      "PBR has a new IPA cousin from Pabst Brewing\n",
      "Human Robot Jenkintown \"The Haus\" | Jenkintown PA - Facebook\n"
     ]
    }
   ],
   "source": [
    "browser.get(url)\n",
    "submit=browser.find_element(By.CLASS_NAME, 'search__button')\n",
    "search_form = browser.find_element(By.CLASS_NAME, 'js-search-input')\n",
    "\n",
    "search_form.clear()\n",
    "search_form.send_keys('pbr beer 19104')\n",
    "submit.click()\n",
    "time.sleep(2)\n",
    "more_results_button = browser.find_element(By.CLASS_NAME, 'result--more')\n",
    "more_results_button.click()\n",
    "\n",
    "results_box = browser.find_element(By.ID, 'links')\n",
    "results = results_box.find_elements(By.CLASS_NAME, 'nrn-react-div')\n",
    "\n",
    "for store in results:\n",
    "    print(store.find_element(By.CLASS_NAME, 'ikg2IXiCD14iVX7AdZo1').get_attribute(\"textContent\"))"
   ]
  },
  {
   "cell_type": "markdown",
   "id": "482e92df-0486-4272-b58d-6486ddb955dd",
   "metadata": {
    "jp-MarkdownHeadingCollapsed": true,
    "tags": []
   },
   "source": [
    "# Bing (DONE)"
   ]
  },
  {
   "cell_type": "code",
   "execution_count": 23,
   "id": "4da9aeeb-61f7-4e49-8d6b-8cb9db1e407c",
   "metadata": {
    "tags": []
   },
   "outputs": [],
   "source": [
    "url = \"https://www.bing.com/search?q=ulla+johnson+19104&form=QBLH&sp=-1&ghc=1&lq=0&pq=ulla+johnson+19104&sc=5-18&qs=n&sk=&cvid=6BC0EAD2980848CEB01D6C706FD6D7AF&ghsh=0&ghacc=0&ghpl=\"\n",
    "browser.get(url)"
   ]
  },
  {
   "cell_type": "code",
   "execution_count": 24,
   "id": "92c3ae89-4a36-4df4-a41b-d80c5b3abf34",
   "metadata": {
    "tags": []
   },
   "outputs": [
    {
     "name": "stdout",
     "output_type": "stream",
     "text": [
      "Ulla Johnson Store Locator | Ulla Johnson\n",
      "Ulla Johnson - Luxury Women's Fashion\n",
      "Ulla Johnson | Designer | NET-A-PORTER\n",
      "Shop Ulla Johnson Online | Nordstrom\n"
     ]
    }
   ],
   "source": [
    "browser.get(url)\n",
    "\n",
    "results_box = browser.find_element(By.ID, 'b_results')\n",
    "results = results_box.find_elements(By.CLASS_NAME, 'b_algo')\n",
    "\n",
    "for store in results:\n",
    "    print(store.find_element(By.TAG_NAME, 'a').get_attribute(\"textContent\"))\n",
    "    #Organic results only\n",
    "\n",
    "\n",
    "submit=browser.find_element(By.ID, 'sb_go_par')\n",
    "search_form = browser.find_element(By.ID, 'sb_form_q')\n",
    "\n",
    "search_form.clear()\n",
    "search_form.send_keys('pbr beer 19104')\n",
    "submit.click()\n",
    "\n",
    "time.sleep(2)\n",
    "\n",
    "more_results_button = browser.find_element(By.CLASS_NAME, 'sb_pagN')\n",
    "more_results_button.click()"
   ]
  },
  {
   "cell_type": "markdown",
   "id": "43ca952d-d111-4de4-8fef-f19d10c18022",
   "metadata": {
    "jp-MarkdownHeadingCollapsed": true,
    "tags": []
   },
   "source": [
    "# Yahoo Search (DONE)"
   ]
  },
  {
   "cell_type": "code",
   "execution_count": 25,
   "id": "050fe1ce-2a5b-4a5b-80a3-4401b5ea1112",
   "metadata": {
    "tags": []
   },
   "outputs": [
    {
     "ename": "WebDriverException",
     "evalue": "Message: disconnected: not connected to DevTools\n  (failed to check if window was closed: disconnected: not connected to DevTools)\n  (Session info: chrome=111.0.5563.146)\nStacktrace:\n0   chromedriver                        0x000000010307f428 chromedriver + 4899880\n1   chromedriver                        0x0000000102ffca23 chromedriver + 4364835\n2   chromedriver                        0x0000000102c46bf6 chromedriver + 474102\n3   chromedriver                        0x0000000102c2e3c4 chromedriver + 373700\n4   chromedriver                        0x0000000102c2e133 chromedriver + 373043\n5   chromedriver                        0x0000000102c48782 chromedriver + 481154\n6   chromedriver                        0x0000000102ccb27e chromedriver + 1016446\n7   chromedriver                        0x0000000102cb0333 chromedriver + 906035\n8   chromedriver                        0x0000000102c7a55f chromedriver + 685407\n9   chromedriver                        0x0000000102c7ba7e chromedriver + 690814\n10  chromedriver                        0x000000010304c79e chromedriver + 4691870\n11  chromedriver                        0x0000000103051961 chromedriver + 4712801\n12  chromedriver                        0x00000001030582ff chromedriver + 4739839\n13  chromedriver                        0x000000010305285a chromedriver + 4716634\n14  chromedriver                        0x0000000103024fce chromedriver + 4530126\n15  chromedriver                        0x00000001030725c8 chromedriver + 4847048\n16  chromedriver                        0x0000000103072747 chromedriver + 4847431\n17  chromedriver                        0x000000010308787f chromedriver + 4933759\n18  libsystem_pthread.dylib             0x00007ff814e0b259 _pthread_start + 125\n19  libsystem_pthread.dylib             0x00007ff814e06c7b thread_start + 15\n",
     "output_type": "error",
     "traceback": [
      "\u001b[0;31m---------------------------------------------------------------------------\u001b[0m",
      "\u001b[0;31mWebDriverException\u001b[0m                        Traceback (most recent call last)",
      "Cell \u001b[0;32mIn[25], line 2\u001b[0m\n\u001b[1;32m      1\u001b[0m url \u001b[38;5;241m=\u001b[39m \u001b[38;5;124m\"\u001b[39m\u001b[38;5;124mhttps://search.yahoo.com/search;_ylt=AwrEo_2emiRknKkNCTxDDWVH;_ylc=X1MDMTE5NzgwNDg2NwRfcgMyBGZyAwRmcjIDcDpzLHY6c2ZwLG06c2ItdG9wBGdwcmlkA0Y5NkN5Z200U1YyYk5Ia1U3d1BmMkEEbl9yc2x0AzAEbl9zdWdnAzIEb3JpZ2luA3NlYXJjaC55YWhvby5jb20EcG9zAzAEcHFzdHIDBHBxc3RybAMwBHFzdHJsAzE4BHF1ZXJ5A3VsbGElMjBqb2huc29uJTIwMTkxMDQEdF9zdG1wAzE2ODAxMjA0ODQ-?p=ulla+johnson+19104&fr=sfp&fr2=p\u001b[39m\u001b[38;5;124m%\u001b[39m\u001b[38;5;124m3As\u001b[39m\u001b[38;5;124m%\u001b[39m\u001b[38;5;124m2Cv\u001b[39m\u001b[38;5;124m%\u001b[39m\u001b[38;5;124m3Asfp\u001b[39m\u001b[38;5;124m%\u001b[39m\u001b[38;5;124m2Cm\u001b[39m\u001b[38;5;124m%\u001b[39m\u001b[38;5;124m3Asb-top&iscqry=\u001b[39m\u001b[38;5;124m\"\u001b[39m\n\u001b[0;32m----> 2\u001b[0m \u001b[43mbrowser\u001b[49m\u001b[38;5;241;43m.\u001b[39;49m\u001b[43mget\u001b[49m\u001b[43m(\u001b[49m\u001b[43murl\u001b[49m\u001b[43m)\u001b[49m\n",
      "File \u001b[0;32m~/seleniumTesting/venv/lib/python3.11/site-packages/selenium/webdriver/remote/webdriver.py:449\u001b[0m, in \u001b[0;36mWebDriver.get\u001b[0;34m(self, url)\u001b[0m\n\u001b[1;32m    447\u001b[0m \u001b[38;5;28;01mdef\u001b[39;00m \u001b[38;5;21mget\u001b[39m(\u001b[38;5;28mself\u001b[39m, url: \u001b[38;5;28mstr\u001b[39m) \u001b[38;5;241m-\u001b[39m\u001b[38;5;241m>\u001b[39m \u001b[38;5;28;01mNone\u001b[39;00m:\n\u001b[1;32m    448\u001b[0m \u001b[38;5;250m    \u001b[39m\u001b[38;5;124;03m\"\"\"Loads a web page in the current browser session.\"\"\"\u001b[39;00m\n\u001b[0;32m--> 449\u001b[0m     \u001b[38;5;28;43mself\u001b[39;49m\u001b[38;5;241;43m.\u001b[39;49m\u001b[43mexecute\u001b[49m\u001b[43m(\u001b[49m\u001b[43mCommand\u001b[49m\u001b[38;5;241;43m.\u001b[39;49m\u001b[43mGET\u001b[49m\u001b[43m,\u001b[49m\u001b[43m \u001b[49m\u001b[43m{\u001b[49m\u001b[38;5;124;43m\"\u001b[39;49m\u001b[38;5;124;43murl\u001b[39;49m\u001b[38;5;124;43m\"\u001b[39;49m\u001b[43m:\u001b[49m\u001b[43m \u001b[49m\u001b[43murl\u001b[49m\u001b[43m}\u001b[49m\u001b[43m)\u001b[49m\n",
      "File \u001b[0;32m~/seleniumTesting/venv/lib/python3.11/site-packages/selenium/webdriver/remote/webdriver.py:440\u001b[0m, in \u001b[0;36mWebDriver.execute\u001b[0;34m(self, driver_command, params)\u001b[0m\n\u001b[1;32m    438\u001b[0m response \u001b[38;5;241m=\u001b[39m \u001b[38;5;28mself\u001b[39m\u001b[38;5;241m.\u001b[39mcommand_executor\u001b[38;5;241m.\u001b[39mexecute(driver_command, params)\n\u001b[1;32m    439\u001b[0m \u001b[38;5;28;01mif\u001b[39;00m response:\n\u001b[0;32m--> 440\u001b[0m     \u001b[38;5;28;43mself\u001b[39;49m\u001b[38;5;241;43m.\u001b[39;49m\u001b[43merror_handler\u001b[49m\u001b[38;5;241;43m.\u001b[39;49m\u001b[43mcheck_response\u001b[49m\u001b[43m(\u001b[49m\u001b[43mresponse\u001b[49m\u001b[43m)\u001b[49m\n\u001b[1;32m    441\u001b[0m     response[\u001b[38;5;124m\"\u001b[39m\u001b[38;5;124mvalue\u001b[39m\u001b[38;5;124m\"\u001b[39m] \u001b[38;5;241m=\u001b[39m \u001b[38;5;28mself\u001b[39m\u001b[38;5;241m.\u001b[39m_unwrap_value(response\u001b[38;5;241m.\u001b[39mget(\u001b[38;5;124m\"\u001b[39m\u001b[38;5;124mvalue\u001b[39m\u001b[38;5;124m\"\u001b[39m, \u001b[38;5;28;01mNone\u001b[39;00m))\n\u001b[1;32m    442\u001b[0m     \u001b[38;5;28;01mreturn\u001b[39;00m response\n",
      "File \u001b[0;32m~/seleniumTesting/venv/lib/python3.11/site-packages/selenium/webdriver/remote/errorhandler.py:245\u001b[0m, in \u001b[0;36mErrorHandler.check_response\u001b[0;34m(self, response)\u001b[0m\n\u001b[1;32m    243\u001b[0m         alert_text \u001b[38;5;241m=\u001b[39m value[\u001b[38;5;124m\"\u001b[39m\u001b[38;5;124malert\u001b[39m\u001b[38;5;124m\"\u001b[39m]\u001b[38;5;241m.\u001b[39mget(\u001b[38;5;124m\"\u001b[39m\u001b[38;5;124mtext\u001b[39m\u001b[38;5;124m\"\u001b[39m)\n\u001b[1;32m    244\u001b[0m     \u001b[38;5;28;01mraise\u001b[39;00m exception_class(message, screen, stacktrace, alert_text)  \u001b[38;5;66;03m# type: ignore[call-arg]  # mypy is not smart enough here\u001b[39;00m\n\u001b[0;32m--> 245\u001b[0m \u001b[38;5;28;01mraise\u001b[39;00m exception_class(message, screen, stacktrace)\n",
      "\u001b[0;31mWebDriverException\u001b[0m: Message: disconnected: not connected to DevTools\n  (failed to check if window was closed: disconnected: not connected to DevTools)\n  (Session info: chrome=111.0.5563.146)\nStacktrace:\n0   chromedriver                        0x000000010307f428 chromedriver + 4899880\n1   chromedriver                        0x0000000102ffca23 chromedriver + 4364835\n2   chromedriver                        0x0000000102c46bf6 chromedriver + 474102\n3   chromedriver                        0x0000000102c2e3c4 chromedriver + 373700\n4   chromedriver                        0x0000000102c2e133 chromedriver + 373043\n5   chromedriver                        0x0000000102c48782 chromedriver + 481154\n6   chromedriver                        0x0000000102ccb27e chromedriver + 1016446\n7   chromedriver                        0x0000000102cb0333 chromedriver + 906035\n8   chromedriver                        0x0000000102c7a55f chromedriver + 685407\n9   chromedriver                        0x0000000102c7ba7e chromedriver + 690814\n10  chromedriver                        0x000000010304c79e chromedriver + 4691870\n11  chromedriver                        0x0000000103051961 chromedriver + 4712801\n12  chromedriver                        0x00000001030582ff chromedriver + 4739839\n13  chromedriver                        0x000000010305285a chromedriver + 4716634\n14  chromedriver                        0x0000000103024fce chromedriver + 4530126\n15  chromedriver                        0x00000001030725c8 chromedriver + 4847048\n16  chromedriver                        0x0000000103072747 chromedriver + 4847431\n17  chromedriver                        0x000000010308787f chromedriver + 4933759\n18  libsystem_pthread.dylib             0x00007ff814e0b259 _pthread_start + 125\n19  libsystem_pthread.dylib             0x00007ff814e06c7b thread_start + 15\n"
     ]
    }
   ],
   "source": [
    "url = \"https://search.yahoo.com/search;_ylt=AwrEo_2emiRknKkNCTxDDWVH;_ylc=X1MDMTE5NzgwNDg2NwRfcgMyBGZyAwRmcjIDcDpzLHY6c2ZwLG06c2ItdG9wBGdwcmlkA0Y5NkN5Z200U1YyYk5Ia1U3d1BmMkEEbl9yc2x0AzAEbl9zdWdnAzIEb3JpZ2luA3NlYXJjaC55YWhvby5jb20EcG9zAzAEcHFzdHIDBHBxc3RybAMwBHFzdHJsAzE4BHF1ZXJ5A3VsbGElMjBqb2huc29uJTIwMTkxMDQEdF9zdG1wAzE2ODAxMjA0ODQ-?p=ulla+johnson+19104&fr=sfp&fr2=p%3As%2Cv%3Asfp%2Cm%3Asb-top&iscqry=\"\n",
    "browser.get(url)"
   ]
  },
  {
   "cell_type": "code",
   "execution_count": 37,
   "id": "f2be735b-8327-4e1a-aaa8-65d288a0bb8a",
   "metadata": {
    "tags": []
   },
   "outputs": [
    {
     "name": "stdout",
     "output_type": "stream",
     "text": [
      "Ulla Johnson Store Locator | Ulla Johnson\n",
      "Ulla Johnson | Designer | NET-A-PORTER\n",
      "Shop Ulla Johnson Online | Nordstrom\n",
      "Women's Ulla Johnson Clothing | Nordstrom\n",
      "Dresses | Designer Dresses & Luxury Dresses | Ulla Johnson\n",
      "415 S 40th St, Philadelphia, PA 19104 - MLS PAPH2214604 ...\n",
      "3924 Pine St, Philadelphia, PA 19104 - MLS PAPH2214594 ...\n"
     ]
    }
   ],
   "source": [
    "browser.get(url)\n",
    "\n",
    "results_box = browser.find_element(By.CLASS_NAME, 'searchCenterMiddle')\n",
    "results = results_box.find_elements(By.CLASS_NAME, 'algo')\n",
    "\n",
    "for store in results:\n",
    "    #WHOLE LABEL: print(store.find_element(By.TAG_NAME, 'a').get_attribute(\"textContent\"))\n",
    "    print(store.find_element(By.CLASS_NAME, 'd-ib').get_attribute(\"aria-label\"))\n",
    "    \n",
    "    #print(\"--\")\n",
    "    #print(store.find_element(By.CLASS_NAME, 'title').find_element(By.CLASS_NAME, 'd-ib').text)\n",
    "    #Organic results only\n",
    "\n",
    "    \n",
    "\n",
    "submit=browser.find_element(By.ID, 'sbq-submit')\n",
    "search_form = browser.find_element(By.ID, 'yschsp')\n",
    "\n",
    "search_form.clear()\n",
    "search_form.send_keys('pbr beer 19104')\n",
    "submit.click()\n",
    "\n",
    "time.sleep(2)\n",
    "\n",
    "more_results_button = browser.find_element(By.CLASS_NAME, 'next')\n",
    "more_results_button.click()"
   ]
  },
  {
   "cell_type": "markdown",
   "id": "5192ce5a-7bf6-45e4-a8d7-cd55b4b2be71",
   "metadata": {
    "jp-MarkdownHeadingCollapsed": true,
    "tags": []
   },
   "source": [
    "# Mojeek (DONE)"
   ]
  },
  {
   "cell_type": "code",
   "execution_count": 2,
   "id": "3fb50774-4c2a-42fa-a54c-68568b402370",
   "metadata": {
    "tags": []
   },
   "outputs": [],
   "source": [
    "url = 'https://www.mojeek.com/'\n",
    "browser.get(url)"
   ]
  },
  {
   "cell_type": "code",
   "execution_count": 8,
   "id": "a6990611-6291-46c9-a332-ab046ce77838",
   "metadata": {
    "tags": []
   },
   "outputs": [
    {
     "name": "stdout",
     "output_type": "stream",
     "text": [
      "Dry BEER Goggle Limited Edition \"PBR\" - EKS Brand\n",
      "Home - Pabst Blue Ribbon : Pabst Blue Ribbon\n",
      "PBR: Beer of Chicago Steampunks? - Steampunk Chicago: Be\n",
      "PBR\n",
      "PBR Pup Beer — taylor hagin\n",
      "Is PBR still cool? America's hipster beer is slowing down\n",
      "PBR…Not the Beer, Power Boat Racing! – The Driver\n",
      "is pbr hard coffee beer Archives - GEG Research and Consulting\n",
      "Beer Series - PBR — DAVE MURRAY\n",
      "What Type Of Beer Is Pbr? - Wine-is\n"
     ]
    }
   ],
   "source": [
    "browser.get(url)\n",
    "\n",
    "submit=browser.find_element(By.CLASS_NAME, 'search')\n",
    "search_form = browser.find_element(By.CLASS_NAME, 'js-search-input')\n",
    "\n",
    "\n",
    "search_form.clear()\n",
    "search_form.send_keys('pbr beer')\n",
    "submit.click()\n",
    "\n",
    "results_box = browser.find_element(By.CLASS_NAME, 'results-standard')\n",
    "results = results_box.find_elements(By.TAG_NAME, 'li')\n",
    "\n",
    "for store in results:\n",
    "    print(store.find_element(By.CLASS_NAME, 'title').text)#get_attribute(\"textContent\"))\n",
    "\n",
    "time.sleep(2)\n",
    "\n",
    "pagination = browser.find_element(By.CLASS_NAME, 'pagination')\n",
    "list_pagination = pagination.find_elements(By.TAG_NAME, 'li')\n",
    "list_pagination[-1].click()\n",
    "#more_results_button = browser.find_element_by_css_selector(\".pagination__next-prev-button.next\")\n",
    "#more_results_button.click()"
   ]
  },
  {
   "cell_type": "markdown",
   "id": "003e5116-c9b3-41c3-9906-70a7cdb0cf46",
   "metadata": {
    "jp-MarkdownHeadingCollapsed": true,
    "tags": []
   },
   "source": [
    "# Yellow Pages (DONE)"
   ]
  },
  {
   "cell_type": "code",
   "execution_count": 56,
   "id": "25117ef6-71e8-4822-befb-f1024618f1b7",
   "metadata": {
    "tags": []
   },
   "outputs": [],
   "source": [
    "url = 'https://www.yellowpages.com/'\n",
    "browser.get(url)"
   ]
  },
  {
   "cell_type": "code",
   "execution_count": 63,
   "id": "167893c1-eac4-4ef0-8f13-f1e1d42b6fe3",
   "metadata": {
    "tags": []
   },
   "outputs": [
    {
     "name": "stdout",
     "output_type": "stream",
     "text": [
      "Fort Point Beer Co.\n",
      "Kpp Beer Inc\n",
      "The Beer Hall\n",
      "City Beer Store\n",
      "Beer Nerds\n",
      "Almanac Beer\n",
      "Woods Beer\n",
      "Almanac Beer Co\n",
      "Old Kan & Beer Co\n",
      "Lost & Found Beer Garden\n",
      "Beer Revolution\n",
      "New Oakland Beer Group\n",
      "Beer Baron Bar & Kitchen\n",
      "Craft Beer & Wine\n",
      "New Oakland Beer Group\n",
      "Cleophus Quealy Beer Company\n",
      "Boston Beer Co\n",
      "Dr Hops Kombucha Beer\n",
      "Ghostwood Beer Company\n",
      "Beer and More Two\n",
      "More Beer - More Wine - More Coffee\n",
      "Beer On Tap\n",
      "World of Beer\n",
      "Beer Baron Bar & Kitchen\n",
      "California Craft Beer\n",
      "Umami Burger\n",
      "Ales Unlimited\n",
      "Woods Polk Station\n",
      "House Rules\n",
      "The Boy's Deli\n"
     ]
    }
   ],
   "source": [
    "browser.get(url)\n",
    "\n",
    "submit=browser.find_element(By.TAG_NAME, 'button')\n",
    "search_form = browser.find_element(By.ID, 'query')\n",
    "location_form = browser.find_element(By.ID, 'location')\n",
    "\n",
    "search_form.clear()\n",
    "search_form.send_keys('pbr beer')\n",
    "location_form.clear()\n",
    "location_form.send_keys('94123')\n",
    "submit.click()\n",
    "\n",
    "\n",
    "results_box = browser.find_element(By.CLASS_NAME, 'organic')\n",
    "results = results_box.find_elements(By.CLASS_NAME, 'result')\n",
    "\n",
    "for store in results:\n",
    "    print(store.find_element(By.CLASS_NAME, 'business-name').get_attribute(\"textContent\"))\n",
    "\n",
    "time.sleep(2)\n",
    "\n",
    "\n",
    "pagination = browser.find_element(By.CLASS_NAME, 'pagination')\n",
    "more_results_button = pagination.find_element(By.CLASS_NAME, 'next')\n",
    "more_results_button.click()"
   ]
  },
  {
   "cell_type": "markdown",
   "id": "be991ee7-332a-4ef5-a855-ea8570bfbb27",
   "metadata": {
    "jp-MarkdownHeadingCollapsed": true,
    "tags": []
   },
   "source": [
    "# Brave Search (DONE)"
   ]
  },
  {
   "cell_type": "code",
   "execution_count": 77,
   "id": "0263f75c-00b3-46d4-b3ab-516efee9c2f8",
   "metadata": {
    "tags": []
   },
   "outputs": [],
   "source": [
    "url = 'https://search.brave.com/'\n",
    "browser.get(url)"
   ]
  },
  {
   "cell_type": "code",
   "execution_count": 96,
   "id": "4ad99c14-93af-4cb3-acd0-7abeed55898a",
   "metadata": {
    "tags": []
   },
   "outputs": [
    {
     "name": "stdout",
     "output_type": "stream",
     "text": [
      "Ulla Johnson - Luxury Women's Fashion\n",
      "===\n",
      "Tops\n",
      "===\n",
      "Dresses\n",
      "===\n",
      "New Arrivals\n",
      "===\n",
      "Shop\n",
      "===\n",
      "Ulla Johnson | Shopbop\n",
      "===\n",
      "Shop Ulla Johnson Online\n",
      "===\n",
      "Ulla Johnson (@ullajohnson) • Instagram photos and videos\n",
      "===\n",
      "Ulla Johnson | Designer | NET-A-PORTER US\n",
      "===\n",
      "Ulla Johnson | Bergdorf Goodman\n",
      "===\n",
      "Shop Ulla Johnson Online | Nordstrom\n",
      "===\n",
      "Shop Ulla Johnson Online | Sale & New Season | Lyst\n",
      "===\n",
      "Ulla Johnson - REVOLVE\n",
      "===\n",
      "Ulla Johnson | Garmentory\n",
      "===\n",
      "Ulla Johnson Fall 2023 Ready-to-Wear Collection | Vogue\n",
      "===\n",
      "ULLA JOHNSON Womens | tntfashion.ca\n",
      "===\n",
      "Ulla Johnson - Designer Fashion - FARFETCH\n",
      "===\n",
      "Ulla Johnson | Neiman Marcus\n",
      "===\n",
      "Ulla Johnson products for sale | eBay\n",
      "===\n",
      "Ulla Johnson | Sale up to 70% off | US\n",
      "===\n",
      "Ulla Johnson News, Collections, Fashion Shows, Fashion Week Reviews, ...\n",
      "===\n",
      "ULLA JOHNSON - Home | Facebook\n",
      "===\n",
      "Ulla Johnson Women's Clothing On Sale Up To 90% Off Retail | thredUP\n",
      "===\n",
      "Ulla Johnson Fall 2022 Ready-to-Wear Collection | Vogue\n",
      "===\n"
     ]
    }
   ],
   "source": [
    "browser.get(url)\n",
    "\n",
    "submit=browser.find_element(By.ID, 'submit-button')\n",
    "search_form = browser.find_element(By.ID, 'searchbox')\n",
    "\n",
    "search_form.clear()\n",
    "search_form.send_keys('ulla johnson')\n",
    "submit.click()\n",
    "\n",
    "\n",
    "results_box = browser.find_element(By.ID, 'results')\n",
    "results = results_box.find_elements(By.CLASS_NAME, 'snippet')\n",
    "\n",
    "\n",
    "for store in results:\n",
    "    print(store.find_element(By.CLASS_NAME, 'snippet-title').get_attribute(\"textContent\").strip())\n",
    "    print('===')\n",
    "time.sleep(2)\n",
    "\n",
    "pagination = browser.find_element(By.ID, \"pagination\")\n",
    "more_results_button = pagination.find_element(By.CLASS_NAME, 'btn')\n",
    "more_results_button.click()\n"
   ]
  },
  {
   "cell_type": "markdown",
   "id": "c529183f-9ca8-40d1-82fc-72ce1181aed2",
   "metadata": {
    "jp-MarkdownHeadingCollapsed": true,
    "tags": []
   },
   "source": [
    "# Start Page (DONE - no 'more results')"
   ]
  },
  {
   "cell_type": "code",
   "execution_count": 14,
   "id": "85abfb20-97a7-4e39-937a-974b0f473e44",
   "metadata": {
    "tags": []
   },
   "outputs": [],
   "source": [
    "url = 'https://www.startpage.com/en/'\n",
    "browser.get(url)"
   ]
  },
  {
   "cell_type": "code",
   "execution_count": 18,
   "id": "1c7fac2f-3bca-497d-a068-1a8dc01138a2",
   "metadata": {
    "tags": []
   },
   "outputs": [
    {
     "name": "stdout",
     "output_type": "stream",
     "text": [
      "https://pabstblueribbon.com/pbr-finder/\n",
      "PBR Finder - Pabst Blue Ribbon\n",
      "--\n",
      "https://www.cbsnews.com/philadelphia/news/top-beer-and-shot-combos-in-philadelphia/\n",
      "Top Beer And Shot Combos In Philadelphia - CBS News\n",
      "--\n",
      "https://m.yelp.com/search?find_desc=beer+distributor&find_loc=University+City,+Philadelphia,+PA\n",
      "Top 10 Best Beer Distributor near University City, Philadelphia, PA\n",
      "--\n",
      "https://philly.eater.com/maps/best-sports-bars-philadelphia\n",
      "16 Philly Sports Bars Where You Can Catch the Big Game\n",
      "--\n",
      "https://www.beermenus.com/places/677-world-cafe-live\n",
      "World Cafe Live Concert Venue - Beer Menu - Philadelphia, PA\n",
      "--\n",
      "https://www.ebay.com/itm/304517695940\n",
      "1910 PABST BLUE RIBBON BEER RESTAURANT BAR SALOON ...\n",
      "--\n",
      "https://www.cavsheadhouse.com/drink-menu\n",
      "Drink Menu - Cavanaugh's Headhouse\n",
      "--\n",
      "https://www.cntraveler.com/destinations/philadelphia\n",
      "Philadelphia Travel Guide & Tips | Condé Nast Traveler\n",
      "--\n",
      "https://www.xfinitylive.com/eat-and-drink/pbr-philly\n",
      "PBR Philly - Xfinity Live!\n",
      "--\n",
      "https://www.bsaonline.com/MunicipalDirectory/SelectUnit?unitId=252&returnUrl=//lipsconsfuncfagani.tk/143wwwbsaonlinecomqoT351\n",
      "Untitled\n",
      "--\n"
     ]
    },
    {
     "ename": "NoSuchElementException",
     "evalue": "Message: no such element: Unable to locate element: {\"method\":\"css selector\",\"selector\":\".pagination__next-prev-button\"}\n  (Session info: chrome=111.0.5563.146)\nStacktrace:\n0   chromedriver                        0x0000000100fca428 chromedriver + 4899880\n1   chromedriver                        0x0000000100f47a23 chromedriver + 4364835\n2   chromedriver                        0x0000000100b91bf6 chromedriver + 474102\n3   chromedriver                        0x0000000100bd54f0 chromedriver + 750832\n4   chromedriver                        0x0000000100bd5751 chromedriver + 751441\n5   chromedriver                        0x0000000100bc7486 chromedriver + 693382\n6   chromedriver                        0x0000000100bfb58d chromedriver + 906637\n7   chromedriver                        0x0000000100bc7361 chromedriver + 693089\n8   chromedriver                        0x0000000100bfb71e chromedriver + 907038\n9   chromedriver                        0x0000000100c16b5b chromedriver + 1018715\n10  chromedriver                        0x0000000100bfb333 chromedriver + 906035\n11  chromedriver                        0x0000000100bc555f chromedriver + 685407\n12  chromedriver                        0x0000000100bc6a7e chromedriver + 690814\n13  chromedriver                        0x0000000100f9779e chromedriver + 4691870\n14  chromedriver                        0x0000000100f9c961 chromedriver + 4712801\n15  chromedriver                        0x0000000100fa32ff chromedriver + 4739839\n16  chromedriver                        0x0000000100f9d85a chromedriver + 4716634\n17  chromedriver                        0x0000000100f6ffce chromedriver + 4530126\n18  chromedriver                        0x0000000100fbd5c8 chromedriver + 4847048\n19  chromedriver                        0x0000000100fbd747 chromedriver + 4847431\n20  chromedriver                        0x0000000100fd287f chromedriver + 4933759\n21  libsystem_pthread.dylib             0x00007ff814e0b259 _pthread_start + 125\n22  libsystem_pthread.dylib             0x00007ff814e06c7b thread_start + 15\n",
     "output_type": "error",
     "traceback": [
      "\u001b[0;31m---------------------------------------------------------------------------\u001b[0m",
      "\u001b[0;31mNoSuchElementException\u001b[0m                    Traceback (most recent call last)",
      "Cell \u001b[0;32mIn[18], line 22\u001b[0m\n\u001b[1;32m     20\u001b[0m more_results_button \u001b[38;5;241m=\u001b[39m browser\u001b[38;5;241m.\u001b[39mfind_element(By\u001b[38;5;241m.\u001b[39mCLASS_NAME, \u001b[38;5;124m'\u001b[39m\u001b[38;5;124mpagination\u001b[39m\u001b[38;5;124m'\u001b[39m)\n\u001b[1;32m     21\u001b[0m nextPage \u001b[38;5;241m=\u001b[39m more_results_button\u001b[38;5;241m.\u001b[39mfind_element(By\u001b[38;5;241m.\u001b[39mCLASS_NAME, \u001b[38;5;124m'\u001b[39m\u001b[38;5;124mpagination__form\u001b[39m\u001b[38;5;124m'\u001b[39m)\n\u001b[0;32m---> 22\u001b[0m \u001b[43mnextPage\u001b[49m\u001b[38;5;241;43m.\u001b[39;49m\u001b[43mfind_element\u001b[49m\u001b[43m(\u001b[49m\u001b[43mBy\u001b[49m\u001b[38;5;241;43m.\u001b[39;49m\u001b[43mCLASS_NAME\u001b[49m\u001b[43m,\u001b[49m\u001b[43m \u001b[49m\u001b[38;5;124;43m'\u001b[39;49m\u001b[38;5;124;43mpagination__next-prev-button\u001b[39;49m\u001b[38;5;124;43m'\u001b[39;49m\u001b[43m)\u001b[49m\u001b[38;5;241m.\u001b[39mclick()\n",
      "File \u001b[0;32m~/seleniumTesting/venv/lib/python3.11/site-packages/selenium/webdriver/remote/webelement.py:425\u001b[0m, in \u001b[0;36mWebElement.find_element\u001b[0;34m(self, by, value)\u001b[0m\n\u001b[1;32m    422\u001b[0m     by \u001b[38;5;241m=\u001b[39m By\u001b[38;5;241m.\u001b[39mCSS_SELECTOR\n\u001b[1;32m    423\u001b[0m     value \u001b[38;5;241m=\u001b[39m \u001b[38;5;124mf\u001b[39m\u001b[38;5;124m'\u001b[39m\u001b[38;5;124m[name=\u001b[39m\u001b[38;5;124m\"\u001b[39m\u001b[38;5;132;01m{\u001b[39;00mvalue\u001b[38;5;132;01m}\u001b[39;00m\u001b[38;5;124m\"\u001b[39m\u001b[38;5;124m]\u001b[39m\u001b[38;5;124m'\u001b[39m\n\u001b[0;32m--> 425\u001b[0m \u001b[38;5;28;01mreturn\u001b[39;00m \u001b[38;5;28;43mself\u001b[39;49m\u001b[38;5;241;43m.\u001b[39;49m\u001b[43m_execute\u001b[49m\u001b[43m(\u001b[49m\u001b[43mCommand\u001b[49m\u001b[38;5;241;43m.\u001b[39;49m\u001b[43mFIND_CHILD_ELEMENT\u001b[49m\u001b[43m,\u001b[49m\u001b[43m \u001b[49m\u001b[43m{\u001b[49m\u001b[38;5;124;43m\"\u001b[39;49m\u001b[38;5;124;43musing\u001b[39;49m\u001b[38;5;124;43m\"\u001b[39;49m\u001b[43m:\u001b[49m\u001b[43m \u001b[49m\u001b[43mby\u001b[49m\u001b[43m,\u001b[49m\u001b[43m \u001b[49m\u001b[38;5;124;43m\"\u001b[39;49m\u001b[38;5;124;43mvalue\u001b[39;49m\u001b[38;5;124;43m\"\u001b[39;49m\u001b[43m:\u001b[49m\u001b[43m \u001b[49m\u001b[43mvalue\u001b[49m\u001b[43m}\u001b[49m\u001b[43m)\u001b[49m[\u001b[38;5;124m\"\u001b[39m\u001b[38;5;124mvalue\u001b[39m\u001b[38;5;124m\"\u001b[39m]\n",
      "File \u001b[0;32m~/seleniumTesting/venv/lib/python3.11/site-packages/selenium/webdriver/remote/webelement.py:403\u001b[0m, in \u001b[0;36mWebElement._execute\u001b[0;34m(self, command, params)\u001b[0m\n\u001b[1;32m    401\u001b[0m     params \u001b[38;5;241m=\u001b[39m {}\n\u001b[1;32m    402\u001b[0m params[\u001b[38;5;124m\"\u001b[39m\u001b[38;5;124mid\u001b[39m\u001b[38;5;124m\"\u001b[39m] \u001b[38;5;241m=\u001b[39m \u001b[38;5;28mself\u001b[39m\u001b[38;5;241m.\u001b[39m_id\n\u001b[0;32m--> 403\u001b[0m \u001b[38;5;28;01mreturn\u001b[39;00m \u001b[38;5;28;43mself\u001b[39;49m\u001b[38;5;241;43m.\u001b[39;49m\u001b[43m_parent\u001b[49m\u001b[38;5;241;43m.\u001b[39;49m\u001b[43mexecute\u001b[49m\u001b[43m(\u001b[49m\u001b[43mcommand\u001b[49m\u001b[43m,\u001b[49m\u001b[43m \u001b[49m\u001b[43mparams\u001b[49m\u001b[43m)\u001b[49m\n",
      "File \u001b[0;32m~/seleniumTesting/venv/lib/python3.11/site-packages/selenium/webdriver/remote/webdriver.py:440\u001b[0m, in \u001b[0;36mWebDriver.execute\u001b[0;34m(self, driver_command, params)\u001b[0m\n\u001b[1;32m    438\u001b[0m response \u001b[38;5;241m=\u001b[39m \u001b[38;5;28mself\u001b[39m\u001b[38;5;241m.\u001b[39mcommand_executor\u001b[38;5;241m.\u001b[39mexecute(driver_command, params)\n\u001b[1;32m    439\u001b[0m \u001b[38;5;28;01mif\u001b[39;00m response:\n\u001b[0;32m--> 440\u001b[0m     \u001b[38;5;28;43mself\u001b[39;49m\u001b[38;5;241;43m.\u001b[39;49m\u001b[43merror_handler\u001b[49m\u001b[38;5;241;43m.\u001b[39;49m\u001b[43mcheck_response\u001b[49m\u001b[43m(\u001b[49m\u001b[43mresponse\u001b[49m\u001b[43m)\u001b[49m\n\u001b[1;32m    441\u001b[0m     response[\u001b[38;5;124m\"\u001b[39m\u001b[38;5;124mvalue\u001b[39m\u001b[38;5;124m\"\u001b[39m] \u001b[38;5;241m=\u001b[39m \u001b[38;5;28mself\u001b[39m\u001b[38;5;241m.\u001b[39m_unwrap_value(response\u001b[38;5;241m.\u001b[39mget(\u001b[38;5;124m\"\u001b[39m\u001b[38;5;124mvalue\u001b[39m\u001b[38;5;124m\"\u001b[39m, \u001b[38;5;28;01mNone\u001b[39;00m))\n\u001b[1;32m    442\u001b[0m     \u001b[38;5;28;01mreturn\u001b[39;00m response\n",
      "File \u001b[0;32m~/seleniumTesting/venv/lib/python3.11/site-packages/selenium/webdriver/remote/errorhandler.py:245\u001b[0m, in \u001b[0;36mErrorHandler.check_response\u001b[0;34m(self, response)\u001b[0m\n\u001b[1;32m    243\u001b[0m         alert_text \u001b[38;5;241m=\u001b[39m value[\u001b[38;5;124m\"\u001b[39m\u001b[38;5;124malert\u001b[39m\u001b[38;5;124m\"\u001b[39m]\u001b[38;5;241m.\u001b[39mget(\u001b[38;5;124m\"\u001b[39m\u001b[38;5;124mtext\u001b[39m\u001b[38;5;124m\"\u001b[39m)\n\u001b[1;32m    244\u001b[0m     \u001b[38;5;28;01mraise\u001b[39;00m exception_class(message, screen, stacktrace, alert_text)  \u001b[38;5;66;03m# type: ignore[call-arg]  # mypy is not smart enough here\u001b[39;00m\n\u001b[0;32m--> 245\u001b[0m \u001b[38;5;28;01mraise\u001b[39;00m exception_class(message, screen, stacktrace)\n",
      "\u001b[0;31mNoSuchElementException\u001b[0m: Message: no such element: Unable to locate element: {\"method\":\"css selector\",\"selector\":\".pagination__next-prev-button\"}\n  (Session info: chrome=111.0.5563.146)\nStacktrace:\n0   chromedriver                        0x0000000100fca428 chromedriver + 4899880\n1   chromedriver                        0x0000000100f47a23 chromedriver + 4364835\n2   chromedriver                        0x0000000100b91bf6 chromedriver + 474102\n3   chromedriver                        0x0000000100bd54f0 chromedriver + 750832\n4   chromedriver                        0x0000000100bd5751 chromedriver + 751441\n5   chromedriver                        0x0000000100bc7486 chromedriver + 693382\n6   chromedriver                        0x0000000100bfb58d chromedriver + 906637\n7   chromedriver                        0x0000000100bc7361 chromedriver + 693089\n8   chromedriver                        0x0000000100bfb71e chromedriver + 907038\n9   chromedriver                        0x0000000100c16b5b chromedriver + 1018715\n10  chromedriver                        0x0000000100bfb333 chromedriver + 906035\n11  chromedriver                        0x0000000100bc555f chromedriver + 685407\n12  chromedriver                        0x0000000100bc6a7e chromedriver + 690814\n13  chromedriver                        0x0000000100f9779e chromedriver + 4691870\n14  chromedriver                        0x0000000100f9c961 chromedriver + 4712801\n15  chromedriver                        0x0000000100fa32ff chromedriver + 4739839\n16  chromedriver                        0x0000000100f9d85a chromedriver + 4716634\n17  chromedriver                        0x0000000100f6ffce chromedriver + 4530126\n18  chromedriver                        0x0000000100fbd5c8 chromedriver + 4847048\n19  chromedriver                        0x0000000100fbd747 chromedriver + 4847431\n20  chromedriver                        0x0000000100fd287f chromedriver + 4933759\n21  libsystem_pthread.dylib             0x00007ff814e0b259 _pthread_start + 125\n22  libsystem_pthread.dylib             0x00007ff814e06c7b thread_start + 15\n"
     ]
    }
   ],
   "source": [
    "browser.get(url)\n",
    "\n",
    "submit=browser.find_element(By.ID, 'search-btn')\n",
    "search_form = browser.find_element(By.ID, 'q')\n",
    "\n",
    "search_form.clear()\n",
    "search_form.send_keys('pbr beer 19104')\n",
    "submit.click()\n",
    "\n",
    "results_box = browser.find_element(By.CLASS_NAME, 'w-gl')\n",
    "results = results_box.find_elements(By.CLASS_NAME, 'w-gl__result')\n",
    "\n",
    "for store in results:\n",
    "    print(store.find_element(By.CLASS_NAME, 'result-link').text)#get_attribute(\"textContent\"))\n",
    "    print(store.find_element(By.TAG_NAME, 'h3').text)\n",
    "    print(\"--\")\n",
    "\n",
    "time.sleep(10)\n",
    "\n",
    "more_results_button = browser.find_element(By.CLASS_NAME, 'pagination')\n",
    "nextPage = more_results_button.find_element(By.CLASS_NAME, 'pagination__form')\n",
    "nextPage.find_element(By.CLASS_NAME, 'pagination__next-prev-button').click()\n"
   ]
  },
  {
   "cell_type": "markdown",
   "id": "8ff213f3-bd3a-4c39-96d0-e0fd08005faa",
   "metadata": {
    "jp-MarkdownHeadingCollapsed": true,
    "tags": []
   },
   "source": [
    "# Valentin App (DONE - need google component)"
   ]
  },
  {
   "cell_type": "code",
   "execution_count": 119,
   "id": "0f622ccc-f0c8-499a-b84a-90b10e72e71a",
   "metadata": {
    "tags": []
   },
   "outputs": [],
   "source": [
    "url = \"https://valentin.app/\"\n",
    "browser.get(url)"
   ]
  },
  {
   "cell_type": "code",
   "execution_count": 120,
   "id": "c54f4e38-f7a8-4d6c-a525-fc254ebb1663",
   "metadata": {
    "tags": []
   },
   "outputs": [
    {
     "name": "stdout",
     "output_type": "stream",
     "text": [
      "https://www.google.com/search?q=dewalt+ladders&hl=en&gl=US&ie=utf-8&oe=utf-8&pws=0&uule=a+cm9sZToxCnByb2R1Y2VyOjEyCnByb3ZlbmFuY2U6Ngp0aW1lc3RhbXA6MTY4MDE0OTUzNzMyNzAwMApsYXRsbmd7CmxhdGl0dWRlX2U3OjM3NDIxMDAwMApsb25naXR1ZGVfZTc6LTEyMjA4NDAwMDAKfQpyYWRpdXM6OTMwMDA%3D\n"
     ]
    },
    {
     "data": {
      "text/plain": [
       "\"\\ntime.sleep(10)\\nresults = browser.find_element(By.CLASS_NAME, 'v7W49e')\\n\""
      ]
     },
     "execution_count": 120,
     "metadata": {},
     "output_type": "execute_result"
    }
   ],
   "source": [
    "browser.get(url)\n",
    "\n",
    "search_form = browser.find_element(By.ID, 'search-input')\n",
    "search_form.clear()\n",
    "search_form.send_keys('dewalt ladders')\n",
    "\n",
    "geocode_form = browser.find_element(By.ID, 'place')\n",
    "geocode_form.clear()\n",
    "geocode_form.send_keys('19104')\n",
    "\n",
    "\n",
    "geocode_button = browser.find_element(By.ID, 'button-locate')\n",
    "geocode_button.click()\n",
    "\n",
    "submit=browser.find_element(By.CLASS_NAME, 'btn-primary')\n",
    "submit.click()\n",
    "\n",
    "time.sleep(3)\n",
    "browser.switch_to.window(browser.window_handles[1])\n",
    "print(browser.current_url)\n",
    "\n",
    "'''\n",
    "time.sleep(10)\n",
    "results = browser.find_element(By.CLASS_NAME, 'v7W49e')\n",
    "'''"
   ]
  },
  {
   "cell_type": "code",
   "execution_count": 26,
   "id": "93113bbc-0df6-410c-9257-60bd62170473",
   "metadata": {
    "tags": []
   },
   "outputs": [
    {
     "data": {
      "text/plain": [
       "[]"
      ]
     },
     "execution_count": 26,
     "metadata": {},
     "output_type": "execute_result"
    }
   ],
   "source": [
    "browser.find_elements(By.ID, 'v7W49e')"
   ]
  },
  {
   "cell_type": "markdown",
   "id": "be1fb42d-c94c-4e90-890f-bbe7c1de84e0",
   "metadata": {
    "jp-MarkdownHeadingCollapsed": true,
    "tags": []
   },
   "source": [
    "# Neeva (CANT FIND RESULTS BOX)"
   ]
  },
  {
   "cell_type": "code",
   "execution_count": 19,
   "id": "c11d078e-bcce-4b2e-a6e4-ee7fe9e4ab65",
   "metadata": {
    "tags": []
   },
   "outputs": [],
   "source": [
    "url = \"https://neeva.com/\"\n",
    "browser.get(url)"
   ]
  },
  {
   "cell_type": "code",
   "execution_count": 20,
   "id": "46c5683f-3006-428f-998b-a4416661f28f",
   "metadata": {
    "tags": []
   },
   "outputs": [
    {
     "data": {
      "text/plain": [
       "'\\nmore_results_button = browser.find_element(By.CLASS_NAME, \\'result--more\\')\\nmore_results_button.click()\\n\\n\\n\\nfor store in results:\\n    print(store.find_element(By.CLASS_NAME, \\'ikg2IXiCD14iVX7AdZo1\\').get_attribute(\"textContent\"))\\n'"
      ]
     },
     "execution_count": 20,
     "metadata": {},
     "output_type": "execute_result"
    }
   ],
   "source": [
    "browser.get(url)\n",
    "submit=browser.find_element(By.CLASS_NAME, 'search-bar_magnifyingGlass__8QqCJ')\n",
    "search_form = browser.find_element(By.CLASS_NAME, 'search-bar_darkText__a0lXg')\n",
    "\n",
    "time.sleep(2)\n",
    "\n",
    "#search_form.clear()\n",
    "search_form.send_keys('nike stores')\n",
    "submit.click()\n",
    "\n",
    "\n",
    "results_box = browser.find_element(By.CLASS_NAME, 'app-layout__columnContainer-2SR1K')\n",
    "results_box = browser.find_element(By.CLASS_NAME, 'app-layout__column-2kU_Y')\n",
    "results = results_box.find_elements(By.CLASS_NAME, 'result-group-container__component-1xFH0')\n",
    "\n",
    "'''\n",
    "more_results_button = browser.find_element(By.CLASS_NAME, 'result--more')\n",
    "more_results_button.click()\n",
    "\n",
    "\n",
    "\n",
    "for store in results:\n",
    "    print(store.find_element(By.CLASS_NAME, 'ikg2IXiCD14iVX7AdZo1').get_attribute(\"textContent\"))\n",
    "'''"
   ]
  },
  {
   "cell_type": "code",
   "execution_count": 21,
   "id": "435794b8-3112-4ee2-a7ce-200b57c84e40",
   "metadata": {
    "tags": []
   },
   "outputs": [
    {
     "data": {
      "text/plain": [
       "[]"
      ]
     },
     "execution_count": 21,
     "metadata": {},
     "output_type": "execute_result"
    }
   ],
   "source": [
    "results"
   ]
  },
  {
   "cell_type": "markdown",
   "id": "b4b7002d-56ec-4328-919a-505e4f3e0050",
   "metadata": {
    "jp-MarkdownHeadingCollapsed": true,
    "tags": []
   },
   "source": [
    "# Google Maps (CANT FIND RESULTS BOX)"
   ]
  },
  {
   "cell_type": "code",
   "execution_count": 2,
   "id": "8ae6c6ef-b710-4e7b-a9eb-ed3d1f318af6",
   "metadata": {
    "tags": []
   },
   "outputs": [],
   "source": [
    "url = 'https://www.google.com/maps/@39.9525756,-75.1910052,14z'\n",
    "browser.get(url)"
   ]
  },
  {
   "cell_type": "code",
   "execution_count": 3,
   "id": "7796600d-4954-4354-8f58-4b3f6963a325",
   "metadata": {
    "tags": []
   },
   "outputs": [
    {
     "data": {
      "text/plain": [
       "\"\\npagination = browser.find_element(By.CLASS_NAME, 'pagination')\\nmore_results_button = pagination.find_element(By.CLASS_NAME, 'next')\\nmore_results_button.click()\\n\""
      ]
     },
     "execution_count": 3,
     "metadata": {},
     "output_type": "execute_result"
    }
   ],
   "source": [
    "browser.get(url)\n",
    "\n",
    "submit=browser.find_element(By.ID, 'searchbox-searchbutton')\n",
    "search_form = browser.find_element(By.ID, 'searchboxinput')\n",
    "\n",
    "search_form.clear()\n",
    "search_form.send_keys('happy hour')\n",
    "submit.click()\n",
    "\n",
    "\n",
    "results_box = browser.find_element(By.CLASS_NAME, 'id-content-container')\n",
    "#results = results_box.find_elements(By.CLASS_NAME, 'TFQHme')\n",
    "\n",
    "\n",
    "#for store in results:\n",
    "#    print(store.find_element(By.CLASS_NAME, 'NrDZNb').get_attribute(\"textContent\"))\n",
    "\n",
    "#time.sleep(2)\n",
    "\n",
    "'''\n",
    "pagination = browser.find_element(By.CLASS_NAME, 'pagination')\n",
    "more_results_button = pagination.find_element(By.CLASS_NAME, 'next')\n",
    "more_results_button.click()\n",
    "'''"
   ]
  },
  {
   "cell_type": "code",
   "execution_count": 11,
   "id": "420fbcc2-7d4e-42cc-a238-09a360564a9c",
   "metadata": {
    "tags": []
   },
   "outputs": [
    {
     "data": {
      "text/plain": [
       "[]"
      ]
     },
     "execution_count": 11,
     "metadata": {},
     "output_type": "execute_result"
    }
   ],
   "source": [
    "results"
   ]
  },
  {
   "cell_type": "markdown",
   "id": "dd4a844d-65cf-490b-bc01-da9dd385c29f",
   "metadata": {
    "jp-MarkdownHeadingCollapsed": true,
    "tags": []
   },
   "source": [
    "# Qwant (CANT FIND RESULTS BOX)"
   ]
  },
  {
   "cell_type": "code",
   "execution_count": 4,
   "id": "9ee1cb1d-2657-48c8-9788-2684105f0c6e",
   "metadata": {
    "tags": []
   },
   "outputs": [],
   "source": [
    "url = 'https://www.qwant.com/?l=en'\n",
    "browser.get(url)"
   ]
  },
  {
   "cell_type": "code",
   "execution_count": 9,
   "id": "163e89cc-2d26-4fad-ab81-8632df066cda",
   "metadata": {
    "tags": []
   },
   "outputs": [
    {
     "ename": "AttributeError",
     "evalue": "'list' object has no attribute 'find_elements'",
     "output_type": "error",
     "traceback": [
      "\u001b[0;31m---------------------------------------------------------------------------\u001b[0m",
      "\u001b[0;31mAttributeError\u001b[0m                            Traceback (most recent call last)",
      "Cell \u001b[0;32mIn[9], line 12\u001b[0m\n\u001b[1;32m      9\u001b[0m submit\u001b[38;5;241m.\u001b[39mclick()\n\u001b[1;32m     11\u001b[0m results_box \u001b[38;5;241m=\u001b[39m browser\u001b[38;5;241m.\u001b[39mfind_elements(By\u001b[38;5;241m.\u001b[39mCLASS_NAME, \u001b[38;5;124m\"\u001b[39m\u001b[38;5;124mresult--ext\u001b[39m\u001b[38;5;124m\"\u001b[39m)\n\u001b[0;32m---> 12\u001b[0m \u001b[43mresults_box\u001b[49m\u001b[38;5;241;43m.\u001b[39;49m\u001b[43mfind_elements\u001b[49m(By\u001b[38;5;241m.\u001b[39mCLASS_NAME, \u001b[38;5;124m'\u001b[39m\u001b[38;5;124m_2JZUW\u001b[39m\u001b[38;5;124m'\u001b[39m)\n\u001b[1;32m     15\u001b[0m \u001b[38;5;66;03m#for result in results_box:\u001b[39;00m\n\u001b[1;32m     16\u001b[0m \u001b[38;5;66;03m#    all_results.extend(result.find_elements(By.TAG_NAME, 'div'))\u001b[39;00m\n\u001b[1;32m     17\u001b[0m \n\u001b[0;32m   (...)\u001b[0m\n\u001b[1;32m     25\u001b[0m \u001b[38;5;66;03m#more_results_button = browser.find_element_by_css_selector(\".pagination__next-prev-button.next\")\u001b[39;00m\n\u001b[1;32m     26\u001b[0m \u001b[38;5;66;03m#more_results_button.click()\u001b[39;00m\n",
      "\u001b[0;31mAttributeError\u001b[0m: 'list' object has no attribute 'find_elements'"
     ]
    }
   ],
   "source": [
    "browser.get(url)\n",
    "\n",
    "submit = browser.find_element(By.CLASS_NAME, '_2idgX')\n",
    "search_form = browser.find_element(By.TAG_NAME, 'input')\n",
    "\n",
    "\n",
    "search_form.clear()\n",
    "search_form.send_keys('pbr beer')\n",
    "submit.click()\n",
    "\n",
    "results_box = browser.find_elements(By.CLASS_NAME, \"result--ext\")\n",
    "results_box.find_elements(By.CLASS_NAME, '_2JZUW')\n",
    "\n",
    "\n",
    "#for result in results_box:\n",
    "#    all_results.extend(result.find_elements(By.TAG_NAME, 'div'))\n",
    "\n",
    "    \n",
    "#for store in all_results:\n",
    "#    print(store.find_element(By.CLASS_NAME, 'Q8spj').text)#get_attribute(\"textContent\"))\n",
    "\n",
    "#time.sleep(2)\n",
    "\n",
    "\n",
    "#more_results_button = browser.find_element_by_css_selector(\".pagination__next-prev-button.next\")\n",
    "#more_results_button.click()"
   ]
  }
 ],
 "metadata": {
  "kernelspec": {
   "display_name": "Python 3 (ipykernel)",
   "language": "python",
   "name": "python3"
  },
  "language_info": {
   "codemirror_mode": {
    "name": "ipython",
    "version": 3
   },
   "file_extension": ".py",
   "mimetype": "text/x-python",
   "name": "python",
   "nbconvert_exporter": "python",
   "pygments_lexer": "ipython3",
   "version": "3.11.2"
  }
 },
 "nbformat": 4,
 "nbformat_minor": 5
}
