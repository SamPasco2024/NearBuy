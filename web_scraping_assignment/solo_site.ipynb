{
 "cells": [
  {
   "cell_type": "code",
   "execution_count": 1,
   "id": "551979b7-3359-4028-b103-15a5599954b8",
   "metadata": {},
   "outputs": [],
   "source": [
    "#Python Imports\n",
    "import os\n",
    "import sys\n",
    "import csv\n",
    "import json\n",
    "import time\n",
    "import itertools\n",
    "import numpy as np\n",
    "import pandas as pd\n",
    "from fuzzywuzzy import fuzz\n",
    "from fuzzywuzzy import process\n",
    "from selenium import webdriver\n",
    "from IPython.display import Image\n",
    "from selenium.webdriver.common.by import By\n",
    "from selenium.webdriver.chrome.options import Options\n",
    "from selenium.webdriver.chrome.service import Service\n",
    "from selenium.webdriver.common.keys import Keys\n",
    "from selenium.webdriver.support.ui import WebDriverWait\n",
    "from selenium.webdriver.common.by import By\n",
    "from selenium.webdriver.support import expected_conditions as EC\n",
    "\n",
    "\n",
    "#Selenium Imports\n",
    "chrome_options = Options()\n",
    "#chrome_options.add_argument(\"--headless\") # Ensure GUI is off\n",
    "#chrome_options.add_argument(\"--no-sandbox\")\n",
    "browser = webdriver.Chrome(options=chrome_options)\n",
    "browser.implicitly_wait(15) # seconds"
   ]
  },
  {
   "cell_type": "code",
   "execution_count": 2,
   "id": "2a4277b9-9176-4ed0-abe9-bcb3196d5f9e",
   "metadata": {},
   "outputs": [],
   "source": [
    "#######\n",
    "search_term_raw = 'amanda upricard'\n",
    "brand_url = 'https://amandauprichard.com/pages/store-locator-1'\n",
    "########\n",
    "\n",
    "search_term = search_term_raw + \" in \"\n",
    "pages = 2\n",
    "zipcodes = pd.read_json('OnePager/top_500_zipcodes.json')['zip'].apply(lambda x: '{:0>5}'.format(x)).to_list()\n",
    "zipcodesSample = zipcodes[0:3]#['94123', '19104', '77494']"
   ]
  },
  {
   "cell_type": "code",
   "execution_count": 3,
   "id": "da036963-78cd-4626-b8a6-bedefd016fea",
   "metadata": {
    "tags": []
   },
   "outputs": [
    {
     "name": "stdout",
     "output_type": "stream",
     "text": [
      "ERROR 77494 1 Message: element click intercepted: Element <button type=\"button\" class=\"st...\n",
      "77449  results: 9  - 2\n",
      "75034  results: 0  - 3\n",
      "===Done===\n"
     ]
    }
   ],
   "source": [
    "resultsList = []\n",
    "url = brand_url\n",
    "\n",
    "browser.get(url)\n",
    "time.sleep(2)\n",
    "\n",
    "for i, zipcode in enumerate(zipcodesSample, start=1):\n",
    "    try:\n",
    "        browser.get(url)\n",
    "\n",
    "        query_entry=browser.find_element(By.CLASS_NAME, 'stockist-query-entry')\n",
    "        input_field = query_entry.find_element(By.TAG_NAME, 'input')\n",
    "        submit = query_entry.find_element(By.CLASS_NAME, 'stockist-search-button').find_element(By.TAG_NAME, 'button')\n",
    "\n",
    "        input_field.clear()\n",
    "        input_field.send_keys(zipcode)\n",
    "        submit.click()\n",
    "\n",
    "        time.sleep(2)\n",
    "        search_results = browser.find_element(By.CLASS_NAME, 'stockist-result-list')\n",
    "        res=search_results.find_elements(By.CLASS_NAME,'stockist-result')\n",
    "\n",
    "        for idx, store in enumerate(res):\n",
    "            storeInfo = {}\n",
    "            storeInfo['store_name'] = store.find_element(By.CLASS_NAME, 'stockist-result-name').get_attribute(\"textContent\")\n",
    "            storeInfo['RankNumber'] = idx\n",
    "            storeInfo['ZipCode'] = zipcode\n",
    "            address = [line.get_attribute(\"textContent\") for line in \n",
    "                      store.find_element(By.CLASS_NAME, 'stockist-result-address').find_elements(By.TAG_NAME, 'div')]\n",
    "            storeInfo['address'] = \", \".join(address)\n",
    "            storeInfo['distance'] = store.find_element(By.CLASS_NAME, 'stockist-result-distance-text').get_attribute(\"textContent\")\n",
    "            storeInfo['google_maps'] = store.find_element(By.CLASS_NAME, 'stockist-result-directions-link').find_element(By.TAG_NAME, 'a').get_attribute('href')\n",
    "            storeInfo['starting_url(brand)'] = url\n",
    "            #If website link in results\n",
    "            '''\n",
    "            try:\n",
    "                storeInfo['website_link'] = store.find_element(By.CLASS_NAME, 'stockist-result-website').find_element(By.TAG_NAME, 'a').get_attribute('href')\n",
    "                print(storeInfo['website_link'])\n",
    "            except:\n",
    "                pass\n",
    "                #print('...no weblink', storeInfo['name'], zipcode)\n",
    "            '''\n",
    "            resultsList.append(storeInfo)\n",
    "        print(zipcode, \" results:\", len(res), ' -', i)\n",
    "    \n",
    "    except Exception as e:\n",
    "        print(\"ERROR\", zipcode, i, str(e)[0:75]+\"...\")\n",
    "        time.sleep(2)\n",
    "print(\"===Done===\")"
   ]
  },
  {
   "cell_type": "code",
   "execution_count": 4,
   "id": "f4aa34c3-1447-474f-bcff-e4e3a23af3e9",
   "metadata": {
    "tags": []
   },
   "outputs": [],
   "source": [
    "pd.DataFrame(resultsList).to_csv(\"upright.csv\")"
   ]
  }
 ],
 "metadata": {
  "kernelspec": {
   "display_name": "Python 3 (ipykernel)",
   "language": "python",
   "name": "python3"
  },
  "language_info": {
   "codemirror_mode": {
    "name": "ipython",
    "version": 3
   },
   "file_extension": ".py",
   "mimetype": "text/x-python",
   "name": "python",
   "nbconvert_exporter": "python",
   "pygments_lexer": "ipython3",
   "version": "3.11.2"
  }
 },
 "nbformat": 4,
 "nbformat_minor": 5
}
